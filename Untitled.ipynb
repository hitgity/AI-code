{
 "cells": [
  {
   "cell_type": "code",
   "execution_count": 12,
   "id": "f6e1e449",
   "metadata": {},
   "outputs": [
    {
     "ename": "NameError",
     "evalue": "name 'webbrowser' is not defined",
     "output_type": "error",
     "traceback": [
      "\u001b[1;31m---------------------------------------------------------------------------\u001b[0m",
      "\u001b[1;31mNameError\u001b[0m                                 Traceback (most recent call last)",
      "Cell \u001b[1;32mIn[12], line 29\u001b[0m\n\u001b[0;32m     25\u001b[0m elem \u001b[38;5;241m=\u001b[39m driver\u001b[38;5;241m.\u001b[39mfind_element(\u001b[38;5;124m\"\u001b[39m\u001b[38;5;124mxpath\u001b[39m\u001b[38;5;124m\"\u001b[39m, \u001b[38;5;124m\"\u001b[39m\u001b[38;5;124m/html/body/div[1]/div[2]/div/div[1]/form/ul/li/div/div[2]/div[1]/label\u001b[39m\u001b[38;5;124m\"\u001b[39m)\n\u001b[0;32m     26\u001b[0m elem\u001b[38;5;241m.\u001b[39mclick()\n\u001b[1;32m---> 29\u001b[0m webbrowser\u001b[38;5;241m.\u001b[39mopen_new_tab(\u001b[38;5;124m'\u001b[39m\u001b[38;5;124mhttps://www.naver.com\u001b[39m\u001b[38;5;124m'\u001b[39m)\n",
      "\u001b[1;31mNameError\u001b[0m: name 'webbrowser' is not defined"
     ]
    }
   ],
   "source": [
    "import pandas as pd\n",
    "import warnings, os, time, shutil, urllib\n",
    "warnings.filterwarnings(action='ignore')\n",
    "\n",
    "from PIL import Image \n",
    "\n",
    "from selenium import webdriver\n",
    "from selenium.webdriver.chrome.service import Service\n",
    "from webdriver_manager.chrome import ChromeDriverManager\n",
    "\n",
    "from selenium.webdriver.common.keys import Keys\n",
    "\n",
    "driver = webdriver.Chrome(service=Service(ChromeDriverManager().install()))\n",
    "\n",
    "\n",
    "driver.get(\"https://nid.naver.com/nidlogin.login?mode=form&url=https://www.naver.com/\")\n",
    "time.sleep(1)\n",
    "\n",
    "elem = driver.find_element(\"xpath\", \"/html/body/div[1]/div[2]/div/div[1]/form/ul/li/div/div[1]/div[1]/input\")\n",
    "elem.send_keys(\"tkdahr10532\")\n",
    "\n",
    "elem = driver.find_element(\"xpath\", \"/html/body/div[1]/div[2]/div/div[1]/form/ul/li/div/div[1]/div[2]/input\")\n",
    "elem.send_keys(\"achromatic\")\n",
    "\n",
    "elem = driver.find_element(\"xpath\", \"/html/body/div[1]/div[2]/div/div[1]/form/ul/li/div/div[2]/div[1]/label\")\n",
    "elem.click()\n",
    "\n",
    "\n",
    "webbrowser.open_new_tab('https://www.naver.com')"
   ]
  },
  {
   "cell_type": "code",
   "execution_count": null,
   "id": "013c128b",
   "metadata": {},
   "outputs": [],
   "source": []
  },
  {
   "cell_type": "code",
   "execution_count": null,
   "id": "3f60db93",
   "metadata": {},
   "outputs": [],
   "source": []
  }
 ],
 "metadata": {
  "kernelspec": {
   "display_name": "Python 3 (ipykernel)",
   "language": "python",
   "name": "python3"
  },
  "language_info": {
   "codemirror_mode": {
    "name": "ipython",
    "version": 3
   },
   "file_extension": ".py",
   "mimetype": "text/x-python",
   "name": "python",
   "nbconvert_exporter": "python",
   "pygments_lexer": "ipython3",
   "version": "3.11.3"
  }
 },
 "nbformat": 4,
 "nbformat_minor": 5
}
