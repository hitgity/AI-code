{
 "cells": [
  {
   "cell_type": "code",
   "execution_count": 7,
   "id": "5475df99",
   "metadata": {},
   "outputs": [],
   "source": [
    "\n",
    "import pandas as pd\n",
    "import warnings, os, time, shutil, urllib\n",
    "warnings.filterwarnings(action='ignore')\n",
    "\n",
    "from PIL import Image \n",
    "# 이미지 제어\n",
    "\n",
    "from selenium import webdriver\n",
    "from selenium.webdriver.chrome.service import Service\n",
    "from webdriver_manager.chrome import ChromeDriverManager\n",
    "\n",
    "from selenium.webdriver.common.keys import Keys\n",
    "\n",
    "driver = webdriver.Chrome(service=Service(ChromeDriverManager().install()))\n",
    "\n",
    "driver.get(\"https://www.naver.com\")\n",
    "\n",
    "# 새로운 탭 열기\n",
    "driver.execute_script(\"window.open('about:blank', '_blank');\")\n",
    "\n",
    "# 새로운 탭으로 전환\n",
    "driver.switch_to.window(driver.window_handles[-1])\n",
    "\n",
    "# 새로운 탭에 페이지 로드\n",
    "driver.get(\"https://www.google.com\")\n",
    "\n"
   ]
  },
  {
   "cell_type": "code",
   "execution_count": null,
   "id": "967c562a",
   "metadata": {},
   "outputs": [],
   "source": []
  }
 ],
 "metadata": {
  "kernelspec": {
   "display_name": "Python 3 (ipykernel)",
   "language": "python",
   "name": "python3"
  },
  "language_info": {
   "codemirror_mode": {
    "name": "ipython",
    "version": 3
   },
   "file_extension": ".py",
   "mimetype": "text/x-python",
   "name": "python",
   "nbconvert_exporter": "python",
   "pygments_lexer": "ipython3",
   "version": "3.11.3"
  }
 },
 "nbformat": 4,
 "nbformat_minor": 5
}
