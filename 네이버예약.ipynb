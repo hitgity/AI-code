{
 "cells": [
  {
   "cell_type": "code",
   "execution_count": null,
   "id": "e9ec9cc5",
   "metadata": {},
   "outputs": [],
   "source": []
  },
  {
   "cell_type": "code",
   "execution_count": null,
   "id": "7fe6e46e",
   "metadata": {},
   "outputs": [],
   "source": [
    "#--- pip install 코드는 한번만 실행하면됩니다 설치 이후 앞에 #을 붙혀 주석처리를 해주시면됩니다. ---#\n",
    "# !pip install pyautoit\n",
    "# !pip install selenium\n",
    "# !pip install webdriver_manager\n",
    "#--------------------------------------------------------------------------------#\n",
    "\n",
    "import pandas as pd\n",
    "import warnings, os, time, shutil, urllib\n",
    "warnings.filterwarnings(action='ignore')\n",
    "\n",
    "from PIL import Image \n",
    "# 이미지 제어\n",
    "\n",
    "from selenium import webdriver\n",
    "from selenium.webdriver.chrome.service import Service\n",
    "from webdriver_manager.chrome import ChromeDriverManager\n",
    "\n",
    "# Keys.ARROW_DOWN , Keys.ARROW_LEFT , Keys.ARROW_RIGHT, Keys.ARROW_UP , Keys.BACK_SPACE , Keys.CONTROL, Keys.ALT , Keys.DELETE , \n",
    "# Keys.ENTER , Keys.SHIFT, Keys.SPACE , Keys.TAB , Keys.EQUALS , Keys.ESCAPE, Keys.HOME , Keys.INSERT , PgUp Key,  Keys.PAGE_UP,\n",
    "# Keys.PAGE_DOWN , Keys.F1 , Keys.F2 , Keys.F3 , Keys.F4, Keys.F5 , Keys.F6 , Keys.F7 , Keys.F8 , Keys.F9 , Keys.F10, Keys.F11 , Keys.F12\n",
    "from selenium.webdriver.common.keys import Keys\n",
    "\n",
    "driver = webdriver.Chrome(service=Service(ChromeDriverManager().install()))"
   ]
  },
  {
   "cell_type": "code",
   "execution_count": null,
   "id": "36edfc23",
   "metadata": {},
   "outputs": [],
   "source": [
    "driver.get(\"https://booking.naver.com/booking/10/bizes/217811/items/4453178\")\n",
    "time.sleep(3)"
   ]
  },
  {
   "cell_type": "code",
   "execution_count": null,
   "id": "0fc90154",
   "metadata": {},
   "outputs": [],
   "source": [
    "idx2 = 5\n",
    "for idx3 in range(1,100):\n",
    "    for idx1 in [3,4,5]:\n",
    "        for idx2 in [1,2,3,4,5,6,7]:\n",
    "            elem = driver.find_element(\"xpath\", f\"/html/body/app/div[2]/div[2]/bk-freetime/div[2]/div[2]/div[1]/div/bk-select-schedule/div[1]/table/tbody[1]/tr[{idx1}]/td[{idx2}]/a/span[1]\")\n",
    "            TITLE = elem.text\n",
    "            if int(TITLE) >= 13:\n",
    "                elem.click()\n",
    "                time.sleep(1)\n",
    "                # 해당 날짜 클릭\n",
    "\n",
    "                elem = driver.find_element(\"xpath\", \"/html/body/app/div[2]/div[2]/bk-freetime/div[2]/bk-select-time-schedule/div/div[2]/div[1]/ul/li[11]/a/span/span\")\n",
    "                elem.click()\n",
    "                time.sleep(1)\n",
    "                # 10시 예약 버튼 클릭\n",
    "                \n",
    "                try:\n",
    "                    elem = driver.find_element(\"xpath\", \"/html/body/app/bk-alert/div/div[2]/p/span\")\n",
    "                    TITLE = elem.text\n",
    "                    # '선택가능한 시간' 크롤링\n",
    "\n",
    "                    if TITLE == '선택 가능한 시간이 아닙니다.':\n",
    "                        elem = driver.find_element(\"xpath\", \"/html/body/app/bk-alert/div/div[2]/a/i\")\n",
    "                        elem.click()\n",
    "                        time.sleep(1)\n",
    "                        # x버튼\n",
    "                except:\n",
    "                    elem = driver.find_element(\"xpath\", \"/html/body/app/div[2]/div[2]/bk-freetime/div[2]/bk-select-time-schedule/div/div[3]/button/span\")\n",
    "                    elem.click()\n",
    "                    time.sleep(1)\n",
    "                    # 예약시간 선택\n",
    "                    \n",
    "                    elem = driver.find_element(\"xpath\", \"/html/body/app/div[2]/div[2]/bk-freetime/div[2]/div[2]/bk-submit/div/button\")\n",
    "                    elem.click()\n",
    "                    time.sleep(1)\n",
    "                    # 다음 단계"
   ]
  }
 ],
 "metadata": {
  "kernelspec": {
   "display_name": "Python 3 (ipykernel)",
   "language": "python",
   "name": "python3"
  },
  "language_info": {
   "codemirror_mode": {
    "name": "ipython",
    "version": 3
   },
   "file_extension": ".py",
   "mimetype": "text/x-python",
   "name": "python",
   "nbconvert_exporter": "python",
   "pygments_lexer": "ipython3",
   "version": "3.11.3"
  }
 },
 "nbformat": 4,
 "nbformat_minor": 5
}
